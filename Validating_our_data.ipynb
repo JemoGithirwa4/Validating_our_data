{
 "cells": [
  {
   "cell_type": "markdown",
   "id": "5439b32a",
   "metadata": {},
   "source": [
    "# Integrated project: Validating our data"
   ]
  },
  {
   "cell_type": "markdown",
   "id": "d0a97d9e",
   "metadata": {},
   "source": [
    "In this project I am diving into the agricultural dataset again to continue to validate our data. First I build a data pipeline that will ingest and clean our data with the press of a button, cleaning up our code significantly. "
   ]
  },
  {
   "cell_type": "markdown",
   "id": "28af9888",
   "metadata": {},
   "source": [
    "First I re-organise or refactor our code into modules. I reorganise all of the code into smaller modules so the code is more readable, maintainable and extendable.\n",
    "\n",
    "I create a module to interact with the database, a module to transform and clean the field-related data and another module to process the weather data.\n",
    "\n",
    "This makes our code more modular. If we want to debug a problem in the field data, we know where to go, and if we want to import other IoT weather sensors we can just modify the weather data module."
   ]
  },
  {
   "cell_type": "markdown",
   "id": "7d1a44a8",
   "metadata": {},
   "source": [
    "# data_ingestion.py module"
   ]
  },
  {
   "cell_type": "markdown",
   "id": "ac40e2a3",
   "metadata": {},
   "source": [
    "This module conntains functions for connecting to a database, and querying some data."
   ]
  },
  {
   "cell_type": "code",
   "execution_count": 1,
   "id": "21197faf",
   "metadata": {},
   "outputs": [],
   "source": [
    "# Importing create_db_engine, query_data and read_from_web_CSV from data_ingestion.py module\n",
    "#from data_ingestion import create_db_engine, query_data, read_from_web_CSV"
   ]
  },
  {
   "cell_type": "markdown",
   "id": "f4501c64",
   "metadata": {},
   "source": [
    "# field_data_processor.py module"
   ]
  },
  {
   "cell_type": "markdown",
   "id": "864f81d0",
   "metadata": {},
   "source": [
    "This module contains a Class that encapsulates the whole data processing process for the field-related data called FieldDataProcessor. In the class, there is a DataFrame attribute and methods that alter that attribute. So I encapsulate all of the logic in this FieldDataProcessor class, I abstract all of the details and only need to call something like FieldDataProcessor.process_data()."
   ]
  },
  {
   "cell_type": "markdown",
   "id": "535179db",
   "metadata": {},
   "source": [
    "Let's test the working of the two modules: "
   ]
  },
  {
   "cell_type": "code",
   "execution_count": 2,
   "id": "539c112a",
   "metadata": {},
   "outputs": [],
   "source": [
    "#Configuration details\n",
    "config_params = {\n",
    "    \"sql_query\": \"\"\"\n",
    "        SELECT *\n",
    "    FROM geographic_features\n",
    "    LEFT JOIN weather_features USING (Field_ID)\n",
    "    LEFT JOIN soil_and_crop_features USING (Field_ID)\n",
    "    LEFT JOIN farm_management_features USING (Field_ID)\n",
    "            \"\"\", # SQL query\n",
    "    \"db_path\": 'sqlite:///Maji_Ndogo_farm_survey_small.db', # db_path of the database\n",
    "    \"columns_to_rename\": {'Annual_yield': 'Crop_type', 'Crop_type': 'Annual_yield'},# Disctionary of columns we want to swop the names of, \n",
    "    \"values_to_rename\": {'cassaval': 'cassava', 'wheatn': 'wheat', 'teaa': 'tea'}, # Croptype renaming dictionary\n",
    "    \"weather_csv_path\": \"https://raw.githubusercontent.com/Explore-AI/Public-Data/master/Maji_Ndogo/Weather_station_data.csv\", # Weather data CSV here\n",
    "    \"weather_mapping_csv\": \"https://raw.githubusercontent.com/Explore-AI/Public-Data/master/Maji_Ndogo/Weather_data_field_mapping.csv\" # Weather data mapping CSV here\n",
    "}"
   ]
  },
  {
   "cell_type": "code",
   "execution_count": 3,
   "id": "c87de4d8",
   "metadata": {},
   "outputs": [],
   "source": [
    "#Importing FieldDataProcessor class from field_data_processor.py module\n",
    "from field_data_processor import FieldDataProcessor"
   ]
  },
  {
   "cell_type": "code",
   "execution_count": 4,
   "id": "81d49065",
   "metadata": {},
   "outputs": [
    {
     "name": "stderr",
     "output_type": "stream",
     "text": [
      "2024-02-28 13:07:17,345 - data_ingestion - INFO - Database engine created successfully.\n",
      "2024-02-28 13:07:17,532 - data_ingestion - INFO - Query executed successfully.\n",
      "2024-02-28 13:07:17,533 - field_data_processor.FieldDataProcessor - INFO - Sucessfully loaded data.\n",
      "2024-02-28 13:07:17,542 - field_data_processor.FieldDataProcessor - INFO - Swapped columns: Annual_yield with Crop_type\n",
      "2024-02-28 13:07:18,487 - data_ingestion - INFO - CSV file read successfully from the web.\n"
     ]
    },
    {
     "data": {
      "text/html": [
       "<div>\n",
       "<style scoped>\n",
       "    .dataframe tbody tr th:only-of-type {\n",
       "        vertical-align: middle;\n",
       "    }\n",
       "\n",
       "    .dataframe tbody tr th {\n",
       "        vertical-align: top;\n",
       "    }\n",
       "\n",
       "    .dataframe thead th {\n",
       "        text-align: right;\n",
       "    }\n",
       "</style>\n",
       "<table border=\"1\" class=\"dataframe\">\n",
       "  <thead>\n",
       "    <tr style=\"text-align: right;\">\n",
       "      <th></th>\n",
       "      <th>Field_ID</th>\n",
       "      <th>Elevation</th>\n",
       "      <th>Latitude</th>\n",
       "      <th>Longitude</th>\n",
       "      <th>Location</th>\n",
       "      <th>Slope</th>\n",
       "      <th>Rainfall</th>\n",
       "      <th>Min_temperature_C</th>\n",
       "      <th>Max_temperature_C</th>\n",
       "      <th>Ave_temps</th>\n",
       "      <th>Soil_fertility</th>\n",
       "      <th>Soil_type</th>\n",
       "      <th>pH</th>\n",
       "      <th>Pollution_level</th>\n",
       "      <th>Plot_size</th>\n",
       "      <th>Annual_yield</th>\n",
       "      <th>Crop_type</th>\n",
       "      <th>Standard_yield</th>\n",
       "      <th>Unnamed: 0</th>\n",
       "      <th>Weather_station</th>\n",
       "    </tr>\n",
       "  </thead>\n",
       "  <tbody>\n",
       "    <tr>\n",
       "      <th>0</th>\n",
       "      <td>40734</td>\n",
       "      <td>786.05580</td>\n",
       "      <td>-7.389911</td>\n",
       "      <td>-7.556202</td>\n",
       "      <td>Rural_Akatsi</td>\n",
       "      <td>14.795113</td>\n",
       "      <td>1125.2</td>\n",
       "      <td>-3.1</td>\n",
       "      <td>33.1</td>\n",
       "      <td>15.00</td>\n",
       "      <td>0.62</td>\n",
       "      <td>Sandy</td>\n",
       "      <td>6.169393</td>\n",
       "      <td>0.085267</td>\n",
       "      <td>1.3</td>\n",
       "      <td>0.751354</td>\n",
       "      <td>cassava</td>\n",
       "      <td>0.577964</td>\n",
       "      <td>0</td>\n",
       "      <td>4</td>\n",
       "    </tr>\n",
       "    <tr>\n",
       "      <th>1</th>\n",
       "      <td>30629</td>\n",
       "      <td>674.33410</td>\n",
       "      <td>-7.736849</td>\n",
       "      <td>-1.051539</td>\n",
       "      <td>Rural_Sokoto</td>\n",
       "      <td>11.374611</td>\n",
       "      <td>1450.7</td>\n",
       "      <td>-3.9</td>\n",
       "      <td>30.6</td>\n",
       "      <td>13.35</td>\n",
       "      <td>0.64</td>\n",
       "      <td>Volcanic</td>\n",
       "      <td>5.676648</td>\n",
       "      <td>0.399684</td>\n",
       "      <td>2.2</td>\n",
       "      <td>1.069865</td>\n",
       "      <td>cassava</td>\n",
       "      <td>0.486302</td>\n",
       "      <td>1</td>\n",
       "      <td>0</td>\n",
       "    </tr>\n",
       "    <tr>\n",
       "      <th>2</th>\n",
       "      <td>39924</td>\n",
       "      <td>826.53390</td>\n",
       "      <td>-9.926616</td>\n",
       "      <td>0.115156</td>\n",
       "      <td>Rural_Sokoto</td>\n",
       "      <td>11.339692</td>\n",
       "      <td>2208.9</td>\n",
       "      <td>-1.8</td>\n",
       "      <td>28.4</td>\n",
       "      <td>13.30</td>\n",
       "      <td>0.69</td>\n",
       "      <td>Volcanic</td>\n",
       "      <td>5.331993</td>\n",
       "      <td>0.358029</td>\n",
       "      <td>3.4</td>\n",
       "      <td>2.208801</td>\n",
       "      <td>tea</td>\n",
       "      <td>0.649647</td>\n",
       "      <td>2</td>\n",
       "      <td>0</td>\n",
       "    </tr>\n",
       "    <tr>\n",
       "      <th>3</th>\n",
       "      <td>5754</td>\n",
       "      <td>574.94617</td>\n",
       "      <td>-2.420131</td>\n",
       "      <td>-6.592215</td>\n",
       "      <td>Rural_Kilimani</td>\n",
       "      <td>7.109855</td>\n",
       "      <td>328.8</td>\n",
       "      <td>-5.8</td>\n",
       "      <td>32.2</td>\n",
       "      <td>13.20</td>\n",
       "      <td>0.54</td>\n",
       "      <td>Loamy</td>\n",
       "      <td>5.328150</td>\n",
       "      <td>0.286687</td>\n",
       "      <td>2.4</td>\n",
       "      <td>1.277635</td>\n",
       "      <td>cassava</td>\n",
       "      <td>0.532348</td>\n",
       "      <td>3</td>\n",
       "      <td>1</td>\n",
       "    </tr>\n",
       "    <tr>\n",
       "      <th>4</th>\n",
       "      <td>14146</td>\n",
       "      <td>886.35300</td>\n",
       "      <td>-3.055434</td>\n",
       "      <td>-7.952609</td>\n",
       "      <td>Rural_Kilimani</td>\n",
       "      <td>55.007656</td>\n",
       "      <td>785.2</td>\n",
       "      <td>-2.5</td>\n",
       "      <td>31.0</td>\n",
       "      <td>14.25</td>\n",
       "      <td>0.72</td>\n",
       "      <td>Sandy</td>\n",
       "      <td>5.721234</td>\n",
       "      <td>0.043190</td>\n",
       "      <td>1.5</td>\n",
       "      <td>0.832614</td>\n",
       "      <td>wheat</td>\n",
       "      <td>0.555076</td>\n",
       "      <td>4</td>\n",
       "      <td>1</td>\n",
       "    </tr>\n",
       "  </tbody>\n",
       "</table>\n",
       "</div>"
      ],
      "text/plain": [
       "   Field_ID  Elevation  Latitude  Longitude        Location      Slope  \\\n",
       "0     40734  786.05580 -7.389911  -7.556202    Rural_Akatsi  14.795113   \n",
       "1     30629  674.33410 -7.736849  -1.051539    Rural_Sokoto  11.374611   \n",
       "2     39924  826.53390 -9.926616   0.115156    Rural_Sokoto  11.339692   \n",
       "3      5754  574.94617 -2.420131  -6.592215  Rural_Kilimani   7.109855   \n",
       "4     14146  886.35300 -3.055434  -7.952609  Rural_Kilimani  55.007656   \n",
       "\n",
       "   Rainfall  Min_temperature_C  Max_temperature_C  Ave_temps  Soil_fertility  \\\n",
       "0    1125.2               -3.1               33.1      15.00            0.62   \n",
       "1    1450.7               -3.9               30.6      13.35            0.64   \n",
       "2    2208.9               -1.8               28.4      13.30            0.69   \n",
       "3     328.8               -5.8               32.2      13.20            0.54   \n",
       "4     785.2               -2.5               31.0      14.25            0.72   \n",
       "\n",
       "  Soil_type        pH  Pollution_level  Plot_size  Annual_yield Crop_type  \\\n",
       "0     Sandy  6.169393         0.085267        1.3      0.751354   cassava   \n",
       "1  Volcanic  5.676648         0.399684        2.2      1.069865   cassava   \n",
       "2  Volcanic  5.331993         0.358029        3.4      2.208801       tea   \n",
       "3     Loamy  5.328150         0.286687        2.4      1.277635   cassava   \n",
       "4     Sandy  5.721234         0.043190        1.5      0.832614     wheat   \n",
       "\n",
       "   Standard_yield  Unnamed: 0  Weather_station  \n",
       "0        0.577964           0                4  \n",
       "1        0.486302           1                0  \n",
       "2        0.649647           2                0  \n",
       "3        0.532348           3                1  \n",
       "4        0.555076           4                1  "
      ]
     },
     "execution_count": 4,
     "metadata": {},
     "output_type": "execute_result"
    }
   ],
   "source": [
    "# Instantiating the class with config_params passed to the class as a parameter \n",
    "field_processor = FieldDataProcessor(config_params)\n",
    "field_processor.process()\n",
    "field_df = field_processor.df\n",
    "\n",
    "# Test\n",
    "field_df.head()"
   ]
  },
  {
   "cell_type": "markdown",
   "id": "5075d607",
   "metadata": {},
   "source": [
    "# weather_data_processor.py module"
   ]
  },
  {
   "cell_type": "markdown",
   "id": "8504d7aa",
   "metadata": {},
   "source": [
    " This module contains the WeatherDataProcessor class which deals with all of the weather-related data."
   ]
  },
  {
   "cell_type": "code",
   "execution_count": 5,
   "id": "b69dd9e8",
   "metadata": {},
   "outputs": [],
   "source": [
    "#New configuration details\n",
    "config_params =  {\n",
    "    \"sql_query\": \"\"\"\n",
    "        SELECT *\n",
    "    FROM geographic_features\n",
    "    LEFT JOIN weather_features USING (Field_ID)\n",
    "    LEFT JOIN soil_and_crop_features USING (Field_ID)\n",
    "    LEFT JOIN farm_management_features USING (Field_ID)\n",
    "            \"\"\", # SQL query\n",
    "    \"db_path\": 'sqlite:///Maji_Ndogo_farm_survey_small.db', # db_path of the database\n",
    "    \"columns_to_rename\": {'Annual_yield': 'Crop_type', 'Crop_type': 'Annual_yield'},# Disctionary of columns we want to swop the names of, \n",
    "    \"values_to_rename\": {'cassaval': 'cassava', 'wheatn': 'wheat', 'teaa': 'tea'}, # Croptype renaming dictionary\n",
    "    \"weather_csv_path\": \"https://raw.githubusercontent.com/Explore-AI/Public-Data/master/Maji_Ndogo/Weather_station_data.csv\", # Weather data CSV here\n",
    "    \"weather_mapping_csv\": \"https://raw.githubusercontent.com/Explore-AI/Public-Data/master/Maji_Ndogo/Weather_data_field_mapping.csv\", # Weather data mapping CSV here\n",
    "\n",
    "\n",
    "    # Added two new keys\n",
    "   \"weather_csv_path\":  \"https://raw.githubusercontent.com/Explore-AI/Public-Data/master/Maji_Ndogo/Weather_station_data.csv\", # URL for the weather station data\n",
    "    \"regex_patterns\" :  {\n",
    "    'Rainfall': r'(\\d+(\\.\\d+)?)\\s?mm',\n",
    "     'Temperature': r'(\\d+(\\.\\d+)?)\\s?C',\n",
    "    'Pollution_level': r'=\\s*(-?\\d+(\\.\\d+)?)|Pollution at \\s*(-?\\d+(\\.\\d+)?)'\n",
    "    } # Regex pattern we use to process the messages\n",
    "}\n"
   ]
  },
  {
   "cell_type": "code",
   "execution_count": 6,
   "id": "caff80df",
   "metadata": {},
   "outputs": [],
   "source": [
    "# Import weatherDataprocessor class from weather_data_processor.py\n",
    "from weather_data_processor import WeatherDataProcessor"
   ]
  },
  {
   "cell_type": "code",
   "execution_count": 7,
   "id": "588a131b",
   "metadata": {},
   "outputs": [
    {
     "name": "stderr",
     "output_type": "stream",
     "text": [
      "2024-02-28 13:07:19,716 - data_ingestion - INFO - CSV file read successfully from the web.\n",
      "2024-02-28 13:07:19,716 - weather_data_processor.WeatherDataProcessor - INFO - Successfully loaded weather station data from the web.\n",
      "2024-02-28 13:07:19,761 - weather_data_processor.WeatherDataProcessor - INFO - Messages processed and measurements extracted.\n",
      "2024-02-28 13:07:19,761 - weather_data_processor.WeatherDataProcessor - INFO - Data processing completed.\n"
     ]
    },
    {
     "data": {
      "text/html": [
       "<div>\n",
       "<style scoped>\n",
       "    .dataframe tbody tr th:only-of-type {\n",
       "        vertical-align: middle;\n",
       "    }\n",
       "\n",
       "    .dataframe tbody tr th {\n",
       "        vertical-align: top;\n",
       "    }\n",
       "\n",
       "    .dataframe thead th {\n",
       "        text-align: right;\n",
       "    }\n",
       "</style>\n",
       "<table border=\"1\" class=\"dataframe\">\n",
       "  <thead>\n",
       "    <tr style=\"text-align: right;\">\n",
       "      <th></th>\n",
       "      <th>Weather_station_ID</th>\n",
       "      <th>Message</th>\n",
       "      <th>Measurement</th>\n",
       "      <th>Value</th>\n",
       "    </tr>\n",
       "  </thead>\n",
       "  <tbody>\n",
       "    <tr>\n",
       "      <th>0</th>\n",
       "      <td>0</td>\n",
       "      <td>【2022-01-04 21:47:48】温度感应: 现在温度是 12.82C.</td>\n",
       "      <td>Temperature</td>\n",
       "      <td>12.82</td>\n",
       "    </tr>\n",
       "    <tr>\n",
       "      <th>1</th>\n",
       "      <td>2</td>\n",
       "      <td>环境监测报告: 2022-10-25 11:53:44, Air Quality Index...</td>\n",
       "      <td>Pollution_level</td>\n",
       "      <td>0.18</td>\n",
       "    </tr>\n",
       "    <tr>\n",
       "      <th>2</th>\n",
       "      <td>0</td>\n",
       "      <td>Temp. Reading [2023-05-23 09:41:36]: Current 1...</td>\n",
       "      <td>Temperature</td>\n",
       "      <td>14.53</td>\n",
       "    </tr>\n",
       "    <tr>\n",
       "      <th>3</th>\n",
       "      <td>0</td>\n",
       "      <td>Weather Update: As of 2022-08-29 06:44:16, rai...</td>\n",
       "      <td>Rainfall</td>\n",
       "      <td>1917.49</td>\n",
       "    </tr>\n",
       "    <tr>\n",
       "      <th>4</th>\n",
       "      <td>4</td>\n",
       "      <td>Temp. Reading [2023-10-23 12:48:18]: Current 1...</td>\n",
       "      <td>Temperature</td>\n",
       "      <td>13.23</td>\n",
       "    </tr>\n",
       "  </tbody>\n",
       "</table>\n",
       "</div>"
      ],
      "text/plain": [
       "   Weather_station_ID                                            Message  \\\n",
       "0                   0           【2022-01-04 21:47:48】温度感应: 现在温度是 12.82C.   \n",
       "1                   2  环境监测报告: 2022-10-25 11:53:44, Air Quality Index...   \n",
       "2                   0  Temp. Reading [2023-05-23 09:41:36]: Current 1...   \n",
       "3                   0  Weather Update: As of 2022-08-29 06:44:16, rai...   \n",
       "4                   4  Temp. Reading [2023-10-23 12:48:18]: Current 1...   \n",
       "\n",
       "       Measurement    Value  \n",
       "0      Temperature    12.82  \n",
       "1  Pollution_level     0.18  \n",
       "2      Temperature    14.53  \n",
       "3         Rainfall  1917.49  \n",
       "4      Temperature    13.23  "
      ]
     },
     "execution_count": 7,
     "metadata": {},
     "output_type": "execute_result"
    }
   ],
   "source": [
    "weather_processor = WeatherDataProcessor(config_params)\n",
    "weather_processor.process()\n",
    "weather_df = weather_processor.weather_df\n",
    "\n",
    "weather_df.head()"
   ]
  },
  {
   "cell_type": "markdown",
   "id": "61919790",
   "metadata": {},
   "source": [
    "### Validating our data pipeline"
   ]
  },
  {
   "cell_type": "markdown",
   "id": "b874b2b1",
   "metadata": {},
   "source": [
    "Before analysing the data, let me pause for a second and ask: Did the changes actually get applied? Did I correct the elevation data, did I rename the columns? "
   ]
  },
  {
   "cell_type": "markdown",
   "id": "a3dfd387",
   "metadata": {},
   "source": [
    "To test the data, we have to give pytest access to that data. The simplest way to do this is by creating CSV files, importing them into validate_data.py, and running the tests.\n",
    "\n",
    "The following code creates CSV files, runs pytest in the terminal using !pytest validate_data.py -v, and deletes the CSV files once the test is complete."
   ]
  },
  {
   "cell_type": "code",
   "execution_count": 8,
   "id": "ca0814bd",
   "metadata": {},
   "outputs": [
    {
     "name": "stdout",
     "output_type": "stream",
     "text": [
      "\u001b[1m============================= test session starts =============================\u001b[0m\n",
      "platform win32 -- Python 3.9.18, pytest-8.0.2, pluggy-1.4.0 -- C:\\Users\\hp\\.conda\\envs\\Sqlenv\\python.exe\n",
      "cachedir: .pytest_cache\n",
      "rootdir: C:\\Users\\hp\\Documents\\ALX Data Science\\PYTHON\\MY PROJECTS\n",
      "plugins: anyio-3.5.0\n",
      "\u001b[1mcollecting ... \u001b[0mcollected 7 items\n",
      "\n",
      "validate_data.py::TestDataValidation::test_crop_types_are_valid \u001b[32mPASSED\u001b[0m\u001b[32m   [ 14%]\u001b[0m\n",
      "validate_data.py::TestDataValidation::test_field_DataFrame_columns \u001b[32mPASSED\u001b[0m\u001b[32m [ 28%]\u001b[0m\n",
      "validate_data.py::TestDataValidation::test_field_DataFrame_non_negative_elevation \u001b[32mPASSED\u001b[0m\u001b[32m [ 42%]\u001b[0m\n",
      "validate_data.py::TestDataValidation::test_positive_rainfall_values \u001b[32mPASSED\u001b[0m\u001b[32m [ 57%]\u001b[0m\n",
      "validate_data.py::TestDataValidation::test_read_field_DataFrame_shape \u001b[32mPASSED\u001b[0m\u001b[32m [ 71%]\u001b[0m\n",
      "validate_data.py::TestDataValidation::test_read_weather_DataFrame_shape \u001b[32mPASSED\u001b[0m\u001b[32m [ 85%]\u001b[0m\n",
      "validate_data.py::TestDataValidation::test_weather_DataFrame_columns \u001b[32mPASSED\u001b[0m\u001b[32m [100%]\u001b[0m\n",
      "\n",
      "\u001b[32m============================== \u001b[32m\u001b[1m7 passed\u001b[0m\u001b[32m in 7.61s\u001b[0m\u001b[32m ==============================\u001b[0m\n",
      "Deleted sampled_weather_df.csv\n",
      "Deleted sampled_field_df.csv\n"
     ]
    }
   ],
   "source": [
    "#!pip install pytest\n",
    "\n",
    "weather_df.to_csv('sampled_weather_df.csv', index=False)\n",
    "field_df.to_csv('sampled_field_df.csv', index=False)\n",
    "\n",
    "!pytest validate_data.py -v\n",
    "\n",
    "import os# Define the file paths\n",
    "weather_csv_path = 'sampled_weather_df.csv'\n",
    "field_csv_path = 'sampled_field_df.csv'\n",
    "\n",
    "# Delete sampled_weather_df.csv if it exists\n",
    "if os.path.exists(weather_csv_path):\n",
    "    os.remove(weather_csv_path)\n",
    "    print(f\"Deleted {weather_csv_path}\")\n",
    "else:\n",
    "    print(f\"{weather_csv_path} does not exist.\")\n",
    "\n",
    "# Delete sampled_field_df.csv if it exists\n",
    "if os.path.exists(field_csv_path):\n",
    "    os.remove(field_csv_path)\n",
    "    print(f\"Deleted {field_csv_path}\")\n",
    "else:\n",
    "    print(f\"{field_csv_path} does not exist.\")"
   ]
  },
  {
   "cell_type": "markdown",
   "id": "f65142b1",
   "metadata": {},
   "source": [
    "Now we know our data resembles what we expect! "
   ]
  },
  {
   "cell_type": "markdown",
   "id": "5cc3ec3b",
   "metadata": {},
   "source": [
    "## Hypothesis"
   ]
  },
  {
   "cell_type": "markdown",
   "id": "1fd7daa3",
   "metadata": {},
   "source": [
    "So what are we testing with our null hypothesis $H_0$? Well, we want to know if our field data is representing the reality in Maji Ndogo by looking at an independent set of data. If our field data (means) are the same as the weather data (means), then it indicates no significant difference between the datasets. We're essentially saying that any difference we see between these means is because of randomness. However, if the means differ significantly, we'll know there is a reason for it, and that it is not just a random fluctuation in the data. \n",
    "\n",
    "<br>\n",
    "\n",
    "Given a significance level $\\alpha$ of 0.05 for a two-tailed test, we have the following conditions for our hypothesis test at a 95% confidence interval:\n",
    "\n",
    "- $H_0$: There is no significant difference between the means of the two datasets. This is expressed as $\\mu_{field} = \\mu_{weather}$.\n",
    "\n",
    "- $H_a$: There is a significant difference between the means of the two datasets. This is expressed as $\\mu_{field} \\neq \\mu_{weather}$.\n",
    "\n",
    "<br>\n",
    "\n",
    "If the p-value obtained from the test:\n",
    "- is less than or equal to the significance level, so $p \\leq \\alpha$, we reject the null hypothesis.\n",
    "- is larger than the significance level, so $p > \\alpha$, we cannot reject the null hypothesis, as we cannot find a statistically significant difference between the datasets at the 95% confidence level."
   ]
  },
  {
   "cell_type": "markdown",
   "id": "3dc9a2ac",
   "metadata": {},
   "source": [
    "We import all of the packages and define a few variables. \n",
    "`.ttest_ind()` takes in two data columns and calculates means, variance, and returns the the t- and p-statistics. Since our alternative hypothesis does not make a claim of greater or less than, we will use the two-sided t-test, by adding  the `alternative = 'two-sided'` keyword."
   ]
  },
  {
   "cell_type": "code",
   "execution_count": 9,
   "id": "1a8df3ee",
   "metadata": {},
   "outputs": [],
   "source": [
    "from scipy.stats import ttest_ind\n",
    "import numpy as np\n",
    "\n",
    "# Now, the measurements_to_compare can directly use 'Temperature', 'Rainfall', and 'Pollution_level'\n",
    "measurements_to_compare = ['Temperature', 'Rainfall', 'Pollution_level']"
   ]
  },
  {
   "cell_type": "markdown",
   "id": "0234343e",
   "metadata": {},
   "source": [
    "We want to compare the means of the temperature, rainfall, and pollution data, for fields assigned to a specific weather station. So for both datasets, we need to isolate the measurement type and weather station for each data, so we're comparing the correct means.\n",
    "\n",
    "Let's break down what  do:\n",
    "1. We need to filter both `field_df` and `weather_df` based on the given station ID and measurement. We can use `filter_field_data(df, station_id, measurement)` and `filter_weather_data(df, station_id, measurement)`.  \n",
    "2. We need to perform a t-test to conduct the t-test on the filtered data. So we're going to use `ttest_ind(data_col1, data_col2, equal_var=False)` from `scipy.stats`.\n",
    "3. `print_ttest_results(station_id, measurement, p_val, alpha)` to interpret and print the results from the t-test.\n",
    "\n",
    "We'll first define these functions, focusing on `Temperature` for `station ID = 0`. Then, we'll integrate these functions into a loop that iterates over each station ID and measurement type."
   ]
  },
  {
   "cell_type": "code",
   "execution_count": 10,
   "id": "f31a01f3",
   "metadata": {},
   "outputs": [],
   "source": [
    "def filter_field_data(df, station_id, measurement):\n",
    "    \"\"\"\n",
    "    Filter field data based on a specific weather station and measurement type.\n",
    "\n",
    "    Parameters:\n",
    "    - df (DataFrame): The DataFrame containing field data.\n",
    "    - station_id (int): The ID of the weather station for which data should be filtered.\n",
    "    - measurement (str): The type of measurement to filter (e.g., 'Temperature', 'Rainfall').\n",
    "\n",
    "    Returns:\n",
    "    - Series: A series containing the filtered data for the specified weather station and measurement.\n",
    "    \"\"\"\n",
    "    station_data = df[df['Weather_station'] == station_id]\n",
    "\n",
    "    return station_data[ measurement]"
   ]
  },
  {
   "cell_type": "code",
   "execution_count": 11,
   "id": "fd5dca42",
   "metadata": {},
   "outputs": [
    {
     "data": {
      "text/html": [
       "<div>\n",
       "<style scoped>\n",
       "    .dataframe tbody tr th:only-of-type {\n",
       "        vertical-align: middle;\n",
       "    }\n",
       "\n",
       "    .dataframe tbody tr th {\n",
       "        vertical-align: top;\n",
       "    }\n",
       "\n",
       "    .dataframe thead th {\n",
       "        text-align: right;\n",
       "    }\n",
       "</style>\n",
       "<table border=\"1\" class=\"dataframe\">\n",
       "  <thead>\n",
       "    <tr style=\"text-align: right;\">\n",
       "      <th></th>\n",
       "      <th>Field_ID</th>\n",
       "      <th>Elevation</th>\n",
       "      <th>Latitude</th>\n",
       "      <th>Longitude</th>\n",
       "      <th>Location</th>\n",
       "      <th>Slope</th>\n",
       "      <th>Rainfall</th>\n",
       "      <th>Min_temperature_C</th>\n",
       "      <th>Max_temperature_C</th>\n",
       "      <th>Temperature</th>\n",
       "      <th>Soil_fertility</th>\n",
       "      <th>Soil_type</th>\n",
       "      <th>pH</th>\n",
       "      <th>Pollution_level</th>\n",
       "      <th>Plot_size</th>\n",
       "      <th>Annual_yield</th>\n",
       "      <th>Crop_type</th>\n",
       "      <th>Standard_yield</th>\n",
       "      <th>Unnamed: 0</th>\n",
       "      <th>Weather_station</th>\n",
       "    </tr>\n",
       "  </thead>\n",
       "  <tbody>\n",
       "    <tr>\n",
       "      <th>0</th>\n",
       "      <td>40734</td>\n",
       "      <td>786.05580</td>\n",
       "      <td>-7.389911</td>\n",
       "      <td>-7.556202</td>\n",
       "      <td>Rural_Akatsi</td>\n",
       "      <td>14.795113</td>\n",
       "      <td>1125.2</td>\n",
       "      <td>-3.1</td>\n",
       "      <td>33.1</td>\n",
       "      <td>15.00</td>\n",
       "      <td>0.62</td>\n",
       "      <td>Sandy</td>\n",
       "      <td>6.169393</td>\n",
       "      <td>0.085267</td>\n",
       "      <td>1.3</td>\n",
       "      <td>0.751354</td>\n",
       "      <td>cassava</td>\n",
       "      <td>0.577964</td>\n",
       "      <td>0</td>\n",
       "      <td>4</td>\n",
       "    </tr>\n",
       "    <tr>\n",
       "      <th>1</th>\n",
       "      <td>30629</td>\n",
       "      <td>674.33410</td>\n",
       "      <td>-7.736849</td>\n",
       "      <td>-1.051539</td>\n",
       "      <td>Rural_Sokoto</td>\n",
       "      <td>11.374611</td>\n",
       "      <td>1450.7</td>\n",
       "      <td>-3.9</td>\n",
       "      <td>30.6</td>\n",
       "      <td>13.35</td>\n",
       "      <td>0.64</td>\n",
       "      <td>Volcanic</td>\n",
       "      <td>5.676648</td>\n",
       "      <td>0.399684</td>\n",
       "      <td>2.2</td>\n",
       "      <td>1.069865</td>\n",
       "      <td>cassava</td>\n",
       "      <td>0.486302</td>\n",
       "      <td>1</td>\n",
       "      <td>0</td>\n",
       "    </tr>\n",
       "    <tr>\n",
       "      <th>2</th>\n",
       "      <td>39924</td>\n",
       "      <td>826.53390</td>\n",
       "      <td>-9.926616</td>\n",
       "      <td>0.115156</td>\n",
       "      <td>Rural_Sokoto</td>\n",
       "      <td>11.339692</td>\n",
       "      <td>2208.9</td>\n",
       "      <td>-1.8</td>\n",
       "      <td>28.4</td>\n",
       "      <td>13.30</td>\n",
       "      <td>0.69</td>\n",
       "      <td>Volcanic</td>\n",
       "      <td>5.331993</td>\n",
       "      <td>0.358029</td>\n",
       "      <td>3.4</td>\n",
       "      <td>2.208801</td>\n",
       "      <td>tea</td>\n",
       "      <td>0.649647</td>\n",
       "      <td>2</td>\n",
       "      <td>0</td>\n",
       "    </tr>\n",
       "    <tr>\n",
       "      <th>3</th>\n",
       "      <td>5754</td>\n",
       "      <td>574.94617</td>\n",
       "      <td>-2.420131</td>\n",
       "      <td>-6.592215</td>\n",
       "      <td>Rural_Kilimani</td>\n",
       "      <td>7.109855</td>\n",
       "      <td>328.8</td>\n",
       "      <td>-5.8</td>\n",
       "      <td>32.2</td>\n",
       "      <td>13.20</td>\n",
       "      <td>0.54</td>\n",
       "      <td>Loamy</td>\n",
       "      <td>5.328150</td>\n",
       "      <td>0.286687</td>\n",
       "      <td>2.4</td>\n",
       "      <td>1.277635</td>\n",
       "      <td>cassava</td>\n",
       "      <td>0.532348</td>\n",
       "      <td>3</td>\n",
       "      <td>1</td>\n",
       "    </tr>\n",
       "    <tr>\n",
       "      <th>4</th>\n",
       "      <td>14146</td>\n",
       "      <td>886.35300</td>\n",
       "      <td>-3.055434</td>\n",
       "      <td>-7.952609</td>\n",
       "      <td>Rural_Kilimani</td>\n",
       "      <td>55.007656</td>\n",
       "      <td>785.2</td>\n",
       "      <td>-2.5</td>\n",
       "      <td>31.0</td>\n",
       "      <td>14.25</td>\n",
       "      <td>0.72</td>\n",
       "      <td>Sandy</td>\n",
       "      <td>5.721234</td>\n",
       "      <td>0.043190</td>\n",
       "      <td>1.5</td>\n",
       "      <td>0.832614</td>\n",
       "      <td>wheat</td>\n",
       "      <td>0.555076</td>\n",
       "      <td>4</td>\n",
       "      <td>1</td>\n",
       "    </tr>\n",
       "  </tbody>\n",
       "</table>\n",
       "</div>"
      ],
      "text/plain": [
       "   Field_ID  Elevation  Latitude  Longitude        Location      Slope  \\\n",
       "0     40734  786.05580 -7.389911  -7.556202    Rural_Akatsi  14.795113   \n",
       "1     30629  674.33410 -7.736849  -1.051539    Rural_Sokoto  11.374611   \n",
       "2     39924  826.53390 -9.926616   0.115156    Rural_Sokoto  11.339692   \n",
       "3      5754  574.94617 -2.420131  -6.592215  Rural_Kilimani   7.109855   \n",
       "4     14146  886.35300 -3.055434  -7.952609  Rural_Kilimani  55.007656   \n",
       "\n",
       "   Rainfall  Min_temperature_C  Max_temperature_C  Temperature  \\\n",
       "0    1125.2               -3.1               33.1        15.00   \n",
       "1    1450.7               -3.9               30.6        13.35   \n",
       "2    2208.9               -1.8               28.4        13.30   \n",
       "3     328.8               -5.8               32.2        13.20   \n",
       "4     785.2               -2.5               31.0        14.25   \n",
       "\n",
       "   Soil_fertility Soil_type        pH  Pollution_level  Plot_size  \\\n",
       "0            0.62     Sandy  6.169393         0.085267        1.3   \n",
       "1            0.64  Volcanic  5.676648         0.399684        2.2   \n",
       "2            0.69  Volcanic  5.331993         0.358029        3.4   \n",
       "3            0.54     Loamy  5.328150         0.286687        2.4   \n",
       "4            0.72     Sandy  5.721234         0.043190        1.5   \n",
       "\n",
       "   Annual_yield Crop_type  Standard_yield  Unnamed: 0  Weather_station  \n",
       "0      0.751354   cassava        0.577964           0                4  \n",
       "1      1.069865   cassava        0.486302           1                0  \n",
       "2      2.208801       tea        0.649647           2                0  \n",
       "3      1.277635   cassava        0.532348           3                1  \n",
       "4      0.832614     wheat        0.555076           4                1  "
      ]
     },
     "execution_count": 11,
     "metadata": {},
     "output_type": "execute_result"
    }
   ],
   "source": [
    "# Rename 'Ave_temps' in field_df to 'Temperature' to match weather_df\n",
    "field_df.rename(columns={'Ave_temps': 'Temperature'}, inplace=True)\n",
    "field_df.head()"
   ]
  },
  {
   "cell_type": "code",
   "execution_count": 12,
   "id": "33825abc",
   "metadata": {},
   "outputs": [
    {
     "data": {
      "text/plain": [
       "1       13.35\n",
       "2       13.30\n",
       "8       12.80\n",
       "10      13.70\n",
       "14      13.35\n",
       "        ...  \n",
       "5627    13.30\n",
       "5630    14.25\n",
       "5632    11.00\n",
       "5638    13.30\n",
       "5642    12.85\n",
       "Name: Temperature, Length: 1375, dtype: float64"
      ]
     },
     "execution_count": 12,
     "metadata": {},
     "output_type": "execute_result"
    }
   ],
   "source": [
    "# Example for station ID 0 and Temperature\n",
    "station_id = 0\n",
    "measurement = 'Temperature'\n",
    "\n",
    "\n",
    "# Filter data for the specific station and measurement\n",
    "field_values = filter_field_data(field_df, station_id, measurement)\n",
    "field_values"
   ]
  },
  {
   "cell_type": "markdown",
   "id": "d69bf390",
   "metadata": {},
   "source": [
    "Below I create a data filter function that takes in the weather_df DataFrame, the station_id, and measurement type, and returns a single column (series) of data filtered by the station_id, and measurement."
   ]
  },
  {
   "cell_type": "code",
   "execution_count": 13,
   "id": "98035f6f",
   "metadata": {},
   "outputs": [],
   "source": [
    "def filter_weather_data(df, station_id, measurement):\n",
    "    \"\"\"\n",
    "    Filter weather data based on a specific weather station and measurement type.\n",
    "\n",
    "    Parameters:\n",
    "    - df (DataFrame): The DataFrame containing weather data.\n",
    "    - station_id (int): The ID of the weather station for which data should be filtered.\n",
    "    - measurement (str): The type of measurement to filter (e.g., 'Temperature', 'Rainfall').\n",
    "\n",
    "    Returns:\n",
    "    - Series: A series containing the filtered data for the specified weather station and measurement.\n",
    "    \"\"\"\n",
    "    station_data = df[df['Weather_station_ID'] == station_id]\n",
    "    station_data = station_data[station_data['Measurement'] == measurement]\n",
    "\n",
    "    return station_data['Value']"
   ]
  },
  {
   "cell_type": "code",
   "execution_count": 14,
   "id": "169658c9",
   "metadata": {},
   "outputs": [
    {
     "data": {
      "text/plain": [
       "0       12.82\n",
       "2       14.53\n",
       "29      14.28\n",
       "32      12.87\n",
       "67      13.13\n",
       "        ...  \n",
       "1804    12.77\n",
       "1805    14.13\n",
       "1817    13.14\n",
       "1833    14.14\n",
       "1834    13.61\n",
       "Name: Value, Length: 100, dtype: float64"
      ]
     },
     "execution_count": 14,
     "metadata": {},
     "output_type": "execute_result"
    }
   ],
   "source": [
    "# Example for station ID 0 and Temperature\n",
    "station_id = 0\n",
    "measurement = 'Temperature'\n",
    "\n",
    "# Filter data for the specific station and measurement\n",
    "\n",
    "weather_values = filter_weather_data(weather_df, station_id, measurement)\n",
    "weather_values"
   ]
  },
  {
   "cell_type": "markdown",
   "id": "40f29ded",
   "metadata": {},
   "source": [
    "Now we create a function that calculates the t-statistic and p-value. The function accepts two single columns of data and return a tuple of the t-statistic and p-value."
   ]
  },
  {
   "cell_type": "code",
   "execution_count": 15,
   "id": "6d0f1a6c",
   "metadata": {},
   "outputs": [],
   "source": [
    "def run_ttest(Column_A, Column_B):\n",
    "    \"\"\"\n",
    "    Perform an independent two-sample t-test on two columns of data.\n",
    "\n",
    "    Parameters:\n",
    "    - Column_A (array-like): The data values for the first sample.\n",
    "    - Column_B (array-like): The data values for the second sample.\n",
    "\n",
    "    Returns:\n",
    "    - tuple: A tuple containing the t-statistic and p-value from the t-test.\n",
    "    \"\"\"\n",
    "    t_statistic, p_value = ttest_ind(Column_A, Column_B, equal_var=False)\n",
    "    \n",
    "    return t_statistic, p_value"
   ]
  },
  {
   "cell_type": "code",
   "execution_count": 16,
   "id": "e2ce4ab0",
   "metadata": {},
   "outputs": [
    {
     "name": "stdout",
     "output_type": "stream",
     "text": [
      "T-stat: -0.11632, p-value: 0.90761\n"
     ]
    }
   ],
   "source": [
    "# Example for station ID 0 and Temperature\n",
    "station_id = 0\n",
    "measurement = 'Temperature'\n",
    "\n",
    "# Filter data for the specific station and measurement\n",
    "field_values = filter_field_data(field_df, station_id, measurement)\n",
    "weather_values = filter_weather_data(weather_df, station_id, measurement)\n",
    "\n",
    "# Perform t-test\n",
    "t_stat, p_val = run_ttest(field_values, weather_values)\n",
    "print(f\"T-stat: {t_stat:.5f}, p-value: {p_val:.5f}\")"
   ]
  },
  {
   "cell_type": "markdown",
   "id": "8afdcbf9",
   "metadata": {},
   "source": [
    "The function below prints out our ttest results."
   ]
  },
  {
   "cell_type": "code",
   "execution_count": 17,
   "id": "bcf59e2c",
   "metadata": {},
   "outputs": [],
   "source": [
    "def print_ttest_results(station_id, measurement, p_val, alpha):\n",
    "    \"\"\"\n",
    "    Interprets and prints the results of a t-test based on the p-value.\n",
    "    \"\"\"\n",
    "    if p_val < alpha:\n",
    "        print(f\"   Significant difference in {measurement} detected at Station  {station_id}, (P-Value: {p_val:.5f} < {alpha}). Null hypothesis rejected.\")\n",
    "    else:\n",
    "        print(f\"   No significant difference in {measurement} detected at Station  {station_id}, (P-Value: {p_val:.5f} > {alpha}). Null hypothesis not rejected.\")"
   ]
  },
  {
   "cell_type": "code",
   "execution_count": 18,
   "id": "8539f915",
   "metadata": {},
   "outputs": [
    {
     "name": "stdout",
     "output_type": "stream",
     "text": [
      "   No significant difference in Temperature detected at Station  0, (P-Value: 0.90761 > 0.05). Null hypothesis not rejected.\n"
     ]
    }
   ],
   "source": [
    "# Example for station ID 0 and Temperature\n",
    "station_id = 0\n",
    "alpha = 0.05\n",
    "\n",
    "measurement = 'Temperature'\n",
    "\n",
    "# Filter data for the specific station and measurement\n",
    "field_values = filter_field_data(field_df, station_id, measurement)\n",
    "weather_values = filter_weather_data(weather_df, station_id, measurement)\n",
    "\n",
    "# Perform t-test\n",
    "t_stat, p_val = run_ttest(field_values, weather_values)\n",
    "print_ttest_results(station_id, measurement, p_val, alpha)"
   ]
  },
  {
   "cell_type": "markdown",
   "id": "1f545bd1",
   "metadata": {},
   "source": [
    "Now I put it all together in a loop. The function loops over measurements_to_compare and all station_id, performs a t-test and print the results. The function accepts field_df, weather_df, list_measurements_to_compare, alpha. \n",
    "The value of alpha should default to a value of 0.05. "
   ]
  },
  {
   "cell_type": "code",
   "execution_count": 19,
   "id": "ac0cf891",
   "metadata": {},
   "outputs": [],
   "source": [
    "def hypothesis_results(field_df, weather_df, list_measurements_to_compare, alpha = 0.05):\n",
    "    \"\"\"\n",
    "    Perform t-tests for each combination of measurement and weather station and print the results.\n",
    "\n",
    "    Parameters:\n",
    "    - field_df (DataFrame): DataFrame containing field data.\n",
    "    - weather_df (DataFrame): DataFrame containing weather data.\n",
    "    - list_measurements_to_compare (list): List of measurements to compare.\n",
    "    - alpha (float, optional): Significance level for hypothesis testing. Defaults to 0.05.\n",
    "\n",
    "    Returns:\n",
    "    - None: The function prints the results of t-tests for each combination.\n",
    "    \"\"\"\n",
    "    for station_id in sorted(list(weather_df['Weather_station_ID'].unique())):\n",
    "        for measurement in list_measurements_to_compare:\n",
    "            field_values = filter_field_data(field_df, station_id, measurement)\n",
    "            weather_values = filter_weather_data(weather_df, station_id, measurement)\n",
    "\n",
    "            t_statistic, p_value = run_ttest(field_values, weather_values)\n",
    "\n",
    "            print_ttest_results(station_id, measurement, p_value, alpha)"
   ]
  },
  {
   "cell_type": "code",
   "execution_count": 20,
   "id": "4eb7e0ec",
   "metadata": {},
   "outputs": [
    {
     "name": "stdout",
     "output_type": "stream",
     "text": [
      "   No significant difference in Temperature detected at Station  0, (P-Value: 0.90761 > 0.05). Null hypothesis not rejected.\n",
      "   No significant difference in Rainfall detected at Station  0, (P-Value: 0.21621 > 0.05). Null hypothesis not rejected.\n",
      "   No significant difference in Pollution_level detected at Station  0, (P-Value: 0.56418 > 0.05). Null hypothesis not rejected.\n",
      "   No significant difference in Temperature detected at Station  1, (P-Value: 0.47241 > 0.05). Null hypothesis not rejected.\n",
      "   No significant difference in Rainfall detected at Station  1, (P-Value: 0.54499 > 0.05). Null hypothesis not rejected.\n",
      "   No significant difference in Pollution_level detected at Station  1, (P-Value: 0.24410 > 0.05). Null hypothesis not rejected.\n",
      "   No significant difference in Temperature detected at Station  2, (P-Value: 0.88671 > 0.05). Null hypothesis not rejected.\n",
      "   No significant difference in Rainfall detected at Station  2, (P-Value: 0.36466 > 0.05). Null hypothesis not rejected.\n",
      "   No significant difference in Pollution_level detected at Station  2, (P-Value: 0.99388 > 0.05). Null hypothesis not rejected.\n",
      "   No significant difference in Temperature detected at Station  3, (P-Value: 0.66445 > 0.05). Null hypothesis not rejected.\n",
      "   No significant difference in Rainfall detected at Station  3, (P-Value: 0.39847 > 0.05). Null hypothesis not rejected.\n",
      "   No significant difference in Pollution_level detected at Station  3, (P-Value: 0.15466 > 0.05). Null hypothesis not rejected.\n",
      "   No significant difference in Temperature detected at Station  4, (P-Value: 0.88575 > 0.05). Null hypothesis not rejected.\n",
      "   No significant difference in Rainfall detected at Station  4, (P-Value: 0.33237 > 0.05). Null hypothesis not rejected.\n",
      "   No significant difference in Pollution_level detected at Station  4, (P-Value: 0.21508 > 0.05). Null hypothesis not rejected.\n"
     ]
    }
   ],
   "source": [
    "alpha = 0.05\n",
    "hypothesis_results(field_df, weather_df, measurements_to_compare, alpha)"
   ]
  },
  {
   "cell_type": "markdown",
   "id": "06f77df0",
   "metadata": {},
   "source": [
    "For all of our measurements the p-value > alpha, so there is not enough evidence to reject the null hypothesis. This means we have no evidence to suggest that the weather data is different from the field data. This makes us confident that our field data, at least in terms of temperature, rainfall, and pollution level is reflecting the reality. "
   ]
  }
 ],
 "metadata": {
  "kernelspec": {
   "display_name": "Python 3 (ipykernel)",
   "language": "python",
   "name": "python3"
  },
  "language_info": {
   "codemirror_mode": {
    "name": "ipython",
    "version": 3
   },
   "file_extension": ".py",
   "mimetype": "text/x-python",
   "name": "python",
   "nbconvert_exporter": "python",
   "pygments_lexer": "ipython3",
   "version": "3.9.18"
  }
 },
 "nbformat": 4,
 "nbformat_minor": 5
}
